{
 "cells": [
  {
   "cell_type": "code",
   "execution_count": null,
   "metadata": {},
   "outputs": [],
   "source": [
    
	 "from selenium import webdriver\n
	"from selenium.webdriver.chrome.service import Service\n",
	"from webdriver_manager.chrome import ChromeDriverManager\n",
	"from selenium.webdriver.common.by import By\n",
	"from selenium.webdriver.common.keys import Keys\n",
	"from selenium.webdriver.support.ui import WebDriverWait\n",
	"from selenium.webdriver.support import expected_conditions as EC\n",
	"from selenium.webdriver.common.action_chains import ActionChains\n",
    "\n",
    "servico = Service(ChromeDriverManager().install())\n",
    "navegador = webdriver.Chrome(service=servico)"
   ]
  }
 ],
 "metadata": {
  "language_info": {
   "name": "python"
  },
  "orig_nbformat": 4
 },
 "nbformat": 4,
 "nbformat_minor": 2
}
