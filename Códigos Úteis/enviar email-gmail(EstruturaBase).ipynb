{
 "cells": [
  {
   "cell_type": "code",
   "execution_count": 6,
   "metadata": {},
   "outputs": [
    {
     "data": {
      "text/plain": [
       "{}"
      ]
     },
     "execution_count": 6,
     "metadata": {},
     "output_type": "execute_result"
    }
   ],
   "source": [
    "import pandas as pd\n",
    "import yagmail #pip install yagmail\n",
    "from pathlib import Path\n",
    "\n",
    "\n",
    "meu_email = 'algumemail@servidor.com'\n",
    "minha_senha = '123' ##A senha que será colocada aqui tem q ser criada através do App Password da google: https://myaccount.google.com/apppasswords\n",
    "usuario = yagmail.SMTP(user=meu_email,password=minha_senha)\n",
    "\n",
    "\n",
    "email_destino = 'algumemail@servidor.com'\n",
    "assunto_email =  f'Titulo'\n",
    "corpo_email = f'''\n",
    "blablablablabla\n",
    "\n",
    "\n",
    "Atencionsamente,\n",
    "fulano de tal\n",
    "'''\n",
    "img = yagmail.inline(r\"C:\\Users\\blablabla\\local\\past\\arquivo.jpeg\")\n",
    "\n",
    "anexo = [r\"C:\\Users\\blablabla\\local\\past\\arquivo.jpeg\",r\"C:\\Users\\blablabla\\local\\past\\arquivo.jpeg\"]\n",
    "\n",
    "\n",
    "usuario.send(\n",
    "    to=email_destino,\n",
    "    subject=assunto_email,\n",
    "    contents=corpo_email,\n",
    "    attachments=anexo\n",
    "    \n",
    ")\n"
   ]
  }
 ],
 "metadata": {
  "kernelspec": {
   "display_name": "Python 3.9.12 ('base')",
   "language": "python",
   "name": "python3"
  },
  "language_info": {
   "codemirror_mode": {
    "name": "ipython",
    "version": 3
   },
   "file_extension": ".py",
   "mimetype": "text/x-python",
   "name": "python",
   "nbconvert_exporter": "python",
   "pygments_lexer": "ipython3",
   "version": "3.9.12"
  },
  "orig_nbformat": 4,
  "vscode": {
   "interpreter": {
    "hash": "665796ea3363072d3a6057ac2fdbe3c4fcb0d17a4b92295d9707f78e9c46c0af"
   }
  }
 },
 "nbformat": 4,
 "nbformat_minor": 2
}
