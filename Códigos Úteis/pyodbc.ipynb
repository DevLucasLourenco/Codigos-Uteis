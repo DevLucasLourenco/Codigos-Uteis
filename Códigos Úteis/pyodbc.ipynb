{
 "cells": [
  {
   "cell_type": "code",
   "execution_count": null,
   "metadata": {},
   "outputs": [],
   "source": [
    "import pyodbc\n",
    "\n",
    "dados_conexao = (\n",
    "    \"Driver={SQL Server};\"\n",
    "    \"Server=localhost;\"\n",
    "    \"Database=algumarquivo.db;\"\n",
    ")\n",
    "\n",
    "\n",
    "conexao = pyodbc.connect(dados_conexao)\n",
    "\n",
    "cursor = conexao.cursor()\n",
    "\n",
    "cursor.execute('''\n",
    "               \n",
    "               \n",
    "               ''')\n",
    "\n",
    "\n",
    "# somente no final que estas duas linhas ficam\n",
    "cursor.close()\n",
    "conexao.close()\n"
   ]
  }
 ],
 "metadata": {
  "language_info": {
   "name": "python"
  },
  "orig_nbformat": 4
 },
 "nbformat": 4,
 "nbformat_minor": 2
}
